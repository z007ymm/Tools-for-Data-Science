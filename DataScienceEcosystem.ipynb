{
  "nbformat": 4,
  "nbformat_minor": 0,
  "metadata": {
    "colab": {
      "provenance": []
    },
    "kernelspec": {
      "name": "python3",
      "display_name": "Python 3"
    },
    "language_info": {
      "name": "python"
    }
  },
  "cells": [
    {
      "cell_type": "markdown",
      "source": [
        "#Data Science Tools and Ecosystem\n",
        "\n"
      ],
      "metadata": {
        "id": "QN4ckpS856Tm"
      }
    },
    {
      "cell_type": "markdown",
      "source": [
        "In this notebook, Data Science Tools and Ecosystem are summarized."
      ],
      "metadata": {
        "id": "mKEE3zrq6aTO"
      }
    },
    {
      "cell_type": "markdown",
      "source": [
        "**Objectives:**\n",
        "\n",
        "- List popular languages for Data Science.\n",
        "- Explore common data science libraries.\n",
        "- Understand key tools used in the Data Science ecosystem.\n",
        "- Introduce basic arithmetic expressions in Python.\n",
        "- Perform simple arithmetic operations in a Jupyter notebook.\n"
      ],
      "metadata": {
        "id": "nJLNIAtN9PD4"
      }
    },
    {
      "cell_type": "markdown",
      "source": [
        "Some of the popular languages that Data Scientists use are:\n",
        "\n",
        "1. Python\n",
        "2. R\n",
        "3. SQL"
      ],
      "metadata": {
        "id": "zcUdTRQX61Sx"
      }
    },
    {
      "cell_type": "markdown",
      "source": [
        "Some of the commonly used libraries by Data Scientists include:\n",
        "\n",
        "1. Pandas\n",
        "2. NumPy\n",
        "3. Scikit-learn"
      ],
      "metadata": {
        "id": "qsw8Iuor7DTW"
      }
    },
    {
      "cell_type": "markdown",
      "source": [
        "| Data Science Tools |\n",
        "|--------------------|\n",
        "| Jupyter Notebook   |\n",
        "| RStudio            |\n",
        "| VSCode             |"
      ],
      "metadata": {
        "id": "v1sHgLns7SM2"
      }
    },
    {
      "cell_type": "markdown",
      "source": [
        "### Below are a few examples of evaluating arithmetic expressions in Python."
      ],
      "metadata": {
        "id": "MilJRYRx7TIQ"
      }
    },
    {
      "cell_type": "code",
      "source": [
        "result = (3 * 4) + 5\n",
        "result"
      ],
      "metadata": {
        "colab": {
          "base_uri": "https://localhost:8080/"
        },
        "id": "PhbaRFvd7xHA",
        "outputId": "c3432666-5b4a-4e52-a453-30ec4d4aac12"
      },
      "execution_count": 3,
      "outputs": [
        {
          "output_type": "execute_result",
          "data": {
            "text/plain": [
              "17"
            ]
          },
          "metadata": {},
          "execution_count": 3
        }
      ]
    },
    {
      "cell_type": "code",
      "source": [
        "minutes = 200\n",
        "hours = minutes / 60\n",
        "hours"
      ],
      "metadata": {
        "colab": {
          "base_uri": "https://localhost:8080/"
        },
        "id": "BuHyffuR8H4A",
        "outputId": "2027c18c-5563-4a88-8732-76e178b6d645"
      },
      "execution_count": 4,
      "outputs": [
        {
          "output_type": "execute_result",
          "data": {
            "text/plain": [
              "3.3333333333333335"
            ]
          },
          "metadata": {},
          "execution_count": 4
        }
      ]
    },
    {
      "cell_type": "markdown",
      "source": [
        "## Author : **Winanya Buakaew**"
      ],
      "metadata": {
        "id": "Y64wmqCY9g6H"
      }
    }
  ]
}